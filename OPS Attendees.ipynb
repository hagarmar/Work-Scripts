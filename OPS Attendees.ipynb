{
 "cells": [
  {
   "cell_type": "code",
   "execution_count": 97,
   "metadata": {
    "collapsed": false
   },
   "outputs": [],
   "source": [
    "from bs4 import BeautifulSoup\n",
    "import xlwt\n",
    "\n",
    "f = open(\"OPS.html\", \"r\")\n",
    "html_file = f.read()\n",
    "f.close()\n",
    "\n",
    "soup = BeautifulSoup(html_file)\n",
    "\n",
    "all_attendees = soup.tbody.find_all(\"tr\")\n",
    "all_attendees_list = []\n",
    "\n",
    "for attendee in all_attendees:\n",
    "    \n",
    "    # get name\n",
    "    name = attendee.find(class_=\"views-field-field-profile-full-name-value\").text.strip()\n",
    "    \n",
    "    # get company name\n",
    "    company_name = attendee.find(class_=\"views-field-field-company-name-value\").text.strip()\n",
    "\n",
    "    # get linkedin profile url\n",
    "    linkedin_profile = attendee.find(title=\"LinkedIn\").get(\"href\")\n",
    "    \n",
    "    # get job title\n",
    "    job_title = attendee.find(class_=\"views-field-field-profile-title-value\").text.strip()\n",
    "    \n",
    "    # put in tmp dict and then in list\n",
    "    attendee_full = {\"Name\":name, \"Company Name\": company_name, \"LinkedIn Profile\":linkedin_profile, \n",
    "                     \"Position\":job_title}\n",
    "    all_attendees_list.append(attendee_full) \n"
   ]
  },
  {
   "cell_type": "code",
   "execution_count": 96,
   "metadata": {
    "collapsed": false
   },
   "outputs": [],
   "source": [
    "#setup excel\n",
    "workbook = xlwt.Workbook()\n",
    "sheet = workbook.add_sheet('Attendees')    \n",
    "\n",
    "# write headers\n",
    "for col_index, key in enumerate(all_attendees_list[0].keys()):\n",
    "    sheet.write(0,col_index, key)\n",
    "\n",
    "# write excel\n",
    "for row_index, row in enumerate(all_attendees_list):\n",
    "    for col_index, key in enumerate(row):\n",
    "        sheet.write(row_index+1, col_index, row[key])\n",
    "\n",
    "workbook.save(\"OPS Attendees.xls\")"
   ]
  },
  {
   "cell_type": "code",
   "execution_count": null,
   "metadata": {
    "collapsed": true
   },
   "outputs": [],
   "source": []
  }
 ],
 "metadata": {
  "kernelspec": {
   "display_name": "Python 2",
   "language": "python",
   "name": "python2"
  },
  "language_info": {
   "codemirror_mode": {
    "name": "ipython",
    "version": 2
   },
   "file_extension": ".py",
   "mimetype": "text/x-python",
   "name": "python",
   "nbconvert_exporter": "python",
   "pygments_lexer": "ipython2",
   "version": "2.7.6"
  }
 },
 "nbformat": 4,
 "nbformat_minor": 0
}
